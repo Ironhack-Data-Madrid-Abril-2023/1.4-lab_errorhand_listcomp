{
 "cells": [
  {
   "cell_type": "markdown",
   "id": "576731f7",
   "metadata": {},
   "source": [
    "**Example:**\n",
    "\n",
    "eggs = (1,3,8,3,2)\n",
    "\n",
    "my_listComprehension = [1/egg for egg in eggs]\n",
    "\n",
    "print(my_listComprehension)\n"
   ]
  },
  {
   "cell_type": "markdown",
   "id": "cf2623ae",
   "metadata": {},
   "source": [
    "# Insert here the module/library import statements "
   ]
  },
  {
   "cell_type": "code",
   "execution_count": 11,
   "id": "630d7e4d",
   "metadata": {},
   "outputs": [],
   "source": [
    "import math\n",
    "import random"
   ]
  },
  {
   "cell_type": "markdown",
   "id": "59d96563",
   "metadata": {},
   "source": [
    "\n",
    "# Calculate the square number of the first 20 numbers. Use square as the name of the list.\n",
    "Remember to use list comprehensions and to print your results"
   ]
  },
  {
   "cell_type": "markdown",
   "id": "1207cb2c",
   "metadata": {},
   "source": []
  },
  {
   "cell_type": "code",
   "execution_count": 12,
   "id": "ce4a6b80",
   "metadata": {},
   "outputs": [
    {
     "name": "stdout",
     "output_type": "stream",
     "text": [
      "[0, 1, 4, 9, 16, 25, 36, 49, 64, 81, 100, 121, 144, 169, 196, 225, 256, 289, 324, 361]\n"
     ]
    }
   ],
   "source": [
    "\n",
    "square = [number**2 for number in range(20)]\n",
    "print(square)"
   ]
  },
  {
   "cell_type": "markdown",
   "id": "b421e0cb",
   "metadata": {},
   "source": [
    "# Calculate the square root of the first 100 numbers. Use sqrt as the name of the list.\n",
    "You will probably need to install math library with pip and import it in this file.\n",
    "\n",
    "Remember to use list comprehensions and to print your results\n"
   ]
  },
  {
   "cell_type": "code",
   "execution_count": 27,
   "id": "c047115a",
   "metadata": {
    "scrolled": true
   },
   "outputs": [
    {
     "name": "stdout",
     "output_type": "stream",
     "text": [
      "[0.0, 1.0, 1.4142135623730951, 1.7320508075688772, 2.0, 2.23606797749979, 2.449489742783178, 2.6457513110645907, 2.8284271247461903, 3.0, 3.1622776601683795, 3.3166247903554, 3.4641016151377544, 3.605551275463989, 3.7416573867739413, 3.872983346207417, 4.0, 4.123105625617661, 4.242640687119285, 4.358898943540674, 4.47213595499958, 4.58257569495584, 4.69041575982343, 4.795831523312719, 4.898979485566356, 5.0, 5.0990195135927845, 5.196152422706632, 5.291502622129181, 5.385164807134504, 5.477225575051661, 5.5677643628300215, 5.656854249492381, 5.744562646538029, 5.830951894845301, 5.916079783099616, 6.0, 6.082762530298219, 6.164414002968976, 6.244997998398398, 6.324555320336759, 6.4031242374328485, 6.48074069840786, 6.557438524302, 6.6332495807108, 6.708203932499369, 6.782329983125268, 6.855654600401044, 6.928203230275509, 7.0, 7.0710678118654755, 7.14142842854285, 7.211102550927978, 7.280109889280518, 7.3484692283495345, 7.416198487095663, 7.483314773547883, 7.54983443527075, 7.615773105863909, 7.681145747868608, 7.745966692414834, 7.810249675906654, 7.874007874011811, 7.937253933193772, 8.0, 8.06225774829855, 8.12403840463596, 8.18535277187245, 8.246211251235321, 8.306623862918075, 8.366600265340756, 8.426149773176359, 8.48528137423857, 8.54400374531753, 8.602325267042627, 8.660254037844387, 8.717797887081348, 8.774964387392123, 8.831760866327848, 8.888194417315589, 8.94427190999916, 9.0, 9.055385138137417, 9.1104335791443, 9.16515138991168, 9.219544457292887, 9.273618495495704, 9.327379053088816, 9.38083151964686, 9.433981132056603, 9.486832980505138, 9.539392014169456, 9.591663046625438, 9.643650760992955, 9.695359714832659, 9.746794344808963, 9.797958971132712, 9.848857801796104, 9.899494936611665, 9.9498743710662]\n"
     ]
    },
    {
     "data": {
      "text/plain": [
       "100"
      ]
     },
     "execution_count": 27,
     "metadata": {},
     "output_type": "execute_result"
    }
   ],
   "source": [
    "sqrt = [math.sqrt(el) for el in range(100)]\n",
    "print(sqrt)\n",
    "len(sqrt)"
   ]
  },
  {
   "cell_type": "markdown",
   "id": "f4bfca8d",
   "metadata": {},
   "source": [
    "\n",
    "# Create this list [-10,-9,-8,-7,-6,-5,-4,-3,-2,-1,0]. Use my_list as the name of the list.\n",
    "Remember to use list comprehensions and to print your results"
   ]
  },
  {
   "cell_type": "code",
   "execution_count": 29,
   "id": "e23d87ea",
   "metadata": {},
   "outputs": [
    {
     "name": "stdout",
     "output_type": "stream",
     "text": [
      "[-10, -9, -8, -7, -6, -5, -4, -3, -2, -1, 0]\n"
     ]
    }
   ],
   "source": [
    "lista = list(range(11))\n",
    "\n",
    "my_list = [el*(-1) for el in lista[::-1]]\n",
    "\n",
    "print(my_list)"
   ]
  },
  {
   "cell_type": "markdown",
   "id": "62592d9c",
   "metadata": {},
   "source": [
    "\n",
    "# Find the odd numbers from 1-100. Use odds as the name of the list. \n",
    "Remember to use list comprehensions and to print your results"
   ]
  },
  {
   "cell_type": "code",
   "execution_count": 38,
   "id": "d8d1c865",
   "metadata": {},
   "outputs": [
    {
     "name": "stdout",
     "output_type": "stream",
     "text": [
      "[1, 3, 5, 7, 9, 11, 13, 15, 17, 19, 21, 23, 25, 27, 29, 31, 33, 35, 37, 39, 41, 43, 45, 47, 49, 51, 53, 55, 57, 59, 61, 63, 65, 67, 69, 71, 73, 75, 77, 79, 81, 83, 85, 87, 89, 91, 93, 95, 97, 99]\n"
     ]
    }
   ],
   "source": [
    "\n",
    "odd = [el for el in list(range(1,101)) if el%2 != 0]\n",
    "\n",
    "\n",
    "print(odd)\n"
   ]
  },
  {
   "cell_type": "markdown",
   "id": "d8b74c2a",
   "metadata": {},
   "source": [
    "# Find all of the numbers from 1-1000 that are divisible by 7. Use divisible_by_seven as the name of the list.\n",
    "Remember to use list comprehensions and to print your results"
   ]
  },
  {
   "cell_type": "code",
   "execution_count": 39,
   "id": "6a9cfb8c",
   "metadata": {},
   "outputs": [
    {
     "name": "stdout",
     "output_type": "stream",
     "text": [
      "[7, 14, 21, 28, 35, 42, 49, 56, 63, 70, 77, 84, 91, 98, 105, 112, 119, 126, 133, 140, 147, 154, 161, 168, 175, 182, 189, 196, 203, 210, 217, 224, 231, 238, 245, 252, 259, 266, 273, 280, 287, 294, 301, 308, 315, 322, 329, 336, 343, 350, 357, 364, 371, 378, 385, 392, 399, 406, 413, 420, 427, 434, 441, 448, 455, 462, 469, 476, 483, 490, 497, 504, 511, 518, 525, 532, 539, 546, 553, 560, 567, 574, 581, 588, 595, 602, 609, 616, 623, 630, 637, 644, 651, 658, 665, 672, 679, 686, 693, 700, 707, 714, 721, 728, 735, 742, 749, 756, 763, 770, 777, 784, 791, 798, 805, 812, 819, 826, 833, 840, 847, 854, 861, 868, 875, 882, 889, 896, 903, 910, 917, 924, 931, 938, 945, 952, 959, 966, 973, 980, 987, 994]\n"
     ]
    }
   ],
   "source": [
    "divisible_by_seven = [el for el in list(range(1,1000)) if el%7 == 0]\n",
    "\n",
    "print(divisible_by_seven)"
   ]
  },
  {
   "cell_type": "markdown",
   "id": "6e6f21e0",
   "metadata": {},
   "source": [
    "# Remove all of the vowels in a string. Hint: make a list of the non-vowels. Use non_vowels as the name of the list.\n",
    "Remember to use list comprehensions and to print your results"
   ]
  },
  {
   "cell_type": "code",
   "execution_count": 49,
   "id": "43b38bd3",
   "metadata": {},
   "outputs": [],
   "source": [
    "# You can use the following test string but feel free to modify at your convenience\n",
    "\n",
    "teststring = 'Find all of the words in a string that are monosyllabic'"
   ]
  },
  {
   "cell_type": "code",
   "execution_count": 59,
   "id": "d5fc7426",
   "metadata": {},
   "outputs": [
    {
     "name": "stdout",
     "output_type": "stream",
     "text": [
      "Fnd ll f th wrds n  strng tht r mnsyllbc\n"
     ]
    }
   ],
   "source": [
    "vowels = ['a', 'e', 'i', 'o', 'u', 'A', 'E', 'I', 'O', 'U']\n",
    "\n",
    "non_vowels = [char for char in teststring if char not in vowels]\n",
    "\n",
    "\n",
    "resultado = ''.join(non_vowels)\n",
    "        \n",
    "print(resultado)\n"
   ]
  },
  {
   "cell_type": "markdown",
   "id": "277d491e",
   "metadata": {},
   "source": [
    "# Find the capital letters (and not white space) in the sentence 'The Quick Brown Fox Jumped Over The Lazy Dog'. \n",
    "- **Use capital_letters as the name of the list.**\n",
    "\n",
    "Remember to use list comprehensions and to print your results"
   ]
  },
  {
   "cell_type": "code",
   "execution_count": 66,
   "id": "3a43399c",
   "metadata": {},
   "outputs": [
    {
     "name": "stdout",
     "output_type": "stream",
     "text": [
      "['T', 'Q', 'B', 'F', 'J', 'O', 'T', 'L', 'D']\n"
     ]
    }
   ],
   "source": [
    "test = 'The Quick Brown Fox Jumped Over The Lazy Dog'\n",
    "\n",
    "capital_letters = [char for char in test if char.isupper()]\n",
    "\n",
    "print(capital_letters)"
   ]
  },
  {
   "cell_type": "markdown",
   "id": "c2603719",
   "metadata": {},
   "source": [
    "# Find all the consonants in the sentence 'The quick brown fox jumped over the lazy dog'.\n",
    " - **Use consonants as the name of the list.**\n",
    " \n",
    "Remember to use list comprehensions and to print your results.\n"
   ]
  },
  {
   "cell_type": "code",
   "execution_count": 67,
   "id": "3ddb68df",
   "metadata": {},
   "outputs": [
    {
     "name": "stdout",
     "output_type": "stream",
     "text": [
      "['T', 'h', 'q', 'c', 'k', 'b', 'r', 'w', 'n', 'f', 'x', 'j', 'm', 'p', 'd', 'v', 'r', 't', 'h', 'l', 'z', 'y', 'd', 'g']\n"
     ]
    }
   ],
   "source": [
    "consonantes = ['b', 'c', 'd', 'f', 'g', 'h', 'j', 'k', 'l', 'm', 'n', 'ñ', 'p', 'q', 'r', 's', 't', 'v', 'w', 'x', 'y', 'z']\n",
    "\n",
    "frase = 'The quick brown fox jumped over the lazy dog'\n",
    "\n",
    "consonants = [char for char in frase if char.lower() in consonantes]\n",
    "\n",
    "print(consonants)\n"
   ]
  },
  {
   "cell_type": "markdown",
   "id": "0f9c4004",
   "metadata": {},
   "source": [
    "# Find the folders you have in your madrid-oct-2018 local repo. Use files as name of the list.  \n",
    "\n",
    "**Hint: You will probably need to import os library and some of its modules. You will need to make some online research.**\n",
    "\n",
    "Remember to use list comprehensions and to print your results."
   ]
  },
  {
   "cell_type": "code",
   "execution_count": null,
   "id": "22bb13eb",
   "metadata": {},
   "outputs": [],
   "source": [
    "import os\n",
    "\n",
    "path = 'r\\'\n",
    "\n",
    "files = []\n",
    "\n",
    "for item in os.listdir(path):\n",
    "    if os.path.isdir(os.path.join(path, item)):\n",
    "        files.append(item)\n",
    "\n",
    "print(files)"
   ]
  },
  {
   "cell_type": "markdown",
   "id": "2cdaa518",
   "metadata": {},
   "source": [
    "# Create 4 lists of 10 random numbers between 0 and 100 each. Use random_lists as the name of the list. \n",
    "**Hint: You will probably need to import random module**\n",
    "\n",
    "Remember to use list comprehensions and to print your results"
   ]
  },
  {
   "cell_type": "code",
   "execution_count": 73,
   "id": "120b29bd",
   "metadata": {},
   "outputs": [
    {
     "name": "stdout",
     "output_type": "stream",
     "text": [
      "[[53, 27, 7, 62, 99, 29, 91, 42, 21, 100], [99, 11, 26, 99, 97, 30, 98, 13, 41, 59], [31, 39, 38, 75, 75, 48, 45, 28, 45, 28], [92, 96, 68, 6, 77, 80, 90, 21, 47, 79]]\n"
     ]
    }
   ],
   "source": [
    "\n",
    "random1 = [random.randint(0,100) for i in range(0,10)]\n",
    "random2 = [random.randint(0,100) for i in range(0,10)]    \n",
    "random3 = [random.randint(0,100) for i in range(0,10)]   \n",
    "random4 = [random.randint(0,100) for i in range(0,10)]\n",
    "\n",
    "random_lists = [lst for lst in [random1, random2, random3, random4]]\n",
    "\n",
    "print(random_lists)"
   ]
  },
  {
   "cell_type": "markdown",
   "id": "b76ea171",
   "metadata": {},
   "source": [
    "# Flatten the following list of lists. Use flatten_list as the name of the output.\n",
    "\n",
    "Remember to use list comprehensions and to print your results\n"
   ]
  },
  {
   "cell_type": "code",
   "execution_count": 75,
   "id": "b3afebb7",
   "metadata": {},
   "outputs": [],
   "source": [
    "list_of_lists = [[1,2,3],[4,5,6],[7,8,9]]"
   ]
  },
  {
   "cell_type": "code",
   "execution_count": 78,
   "id": "b6bcef37",
   "metadata": {},
   "outputs": [
    {
     "name": "stdout",
     "output_type": "stream",
     "text": [
      "[1, 2, 3, 4, 5, 6, 7, 8, 9]\n"
     ]
    }
   ],
   "source": [
    "\n",
    "\n",
    "flatten_list = [n for elemen in list_of_lists for n in elemen]\n",
    "\n",
    "print(flatten_list)"
   ]
  },
  {
   "cell_type": "markdown",
   "id": "53c86611",
   "metadata": {},
   "source": [
    "\n",
    "# Convert the numbers of the following nested list to floats. Use floats as the name of the list. \n",
    "\n",
    "Remember to use list comprehensions and to print your results."
   ]
  },
  {
   "cell_type": "code",
   "execution_count": 80,
   "id": "7087f44e",
   "metadata": {},
   "outputs": [],
   "source": [
    "list_of_lists = [['40', '20', '10', '30'], ['20', '20', '20', '20', '20', '30', '20'], \\\n",
    "['30', '20', '30', '50', '10', '30', '20', '20', '20'], ['100', '100'], ['100', '100', '100', '100', '100'], \\\n",
    "['100', '100', '100', '100']]"
   ]
  },
  {
   "cell_type": "code",
   "execution_count": 81,
   "id": "a932aff5",
   "metadata": {},
   "outputs": [
    {
     "name": "stdout",
     "output_type": "stream",
     "text": [
      "[40.0, 20.0, 10.0, 30.0, 20.0, 20.0, 20.0, 20.0, 20.0, 30.0, 20.0, 30.0, 20.0, 30.0, 50.0, 10.0, 30.0, 20.0, 20.0, 20.0, 100.0, 100.0, 100.0, 100.0, 100.0, 100.0, 100.0, 100.0, 100.0, 100.0, 100.0]\n"
     ]
    }
   ],
   "source": [
    "floats = [float(n) for elemen in list_of_lists for n in elemen]\n",
    "\n",
    "print(floats)"
   ]
  },
  {
   "cell_type": "markdown",
   "id": "62272da6",
   "metadata": {},
   "source": [
    "# Handle the exception thrown by the code below by using try and except blocks. \n"
   ]
  },
  {
   "cell_type": "code",
   "execution_count": 83,
   "id": "b5980ab4",
   "metadata": {},
   "outputs": [
    {
     "name": "stdout",
     "output_type": "stream",
     "text": [
      "liada\n"
     ]
    }
   ],
   "source": [
    "try:\n",
    "    for i in ['a','b','c']:\n",
    "        print (i**2)\n",
    "except:\n",
    "    \n",
    "    print('liada')"
   ]
  },
  {
   "cell_type": "code",
   "execution_count": null,
   "id": "3605fc78",
   "metadata": {},
   "outputs": [],
   "source": []
  },
  {
   "cell_type": "markdown",
   "id": "bda76246",
   "metadata": {},
   "source": [
    "# Handle the exception thrown by the code below by using try and except blocks. \n",
    "\n",
    "Then use a finally block to print 'All Done.'\n",
    "\n",
    "Check in provided resources the type of error you may use. \n"
   ]
  },
  {
   "cell_type": "code",
   "execution_count": 87,
   "id": "441acd1c",
   "metadata": {},
   "outputs": [
    {
     "name": "stdout",
     "output_type": "stream",
     "text": [
      "All Done\n"
     ]
    },
    {
     "ename": "ValueError",
     "evalue": "liadax2",
     "output_type": "error",
     "traceback": [
      "\u001b[1;31m---------------------------------------------------------------------------\u001b[0m",
      "\u001b[1;31mZeroDivisionError\u001b[0m                         Traceback (most recent call last)",
      "Cell \u001b[1;32mIn[87], line 5\u001b[0m\n\u001b[0;32m      3\u001b[0m     y \u001b[38;5;241m=\u001b[39m \u001b[38;5;241m0\u001b[39m\n\u001b[1;32m----> 5\u001b[0m     z \u001b[38;5;241m=\u001b[39m \u001b[43mx\u001b[49m\u001b[38;5;241;43m/\u001b[39;49m\u001b[43my\u001b[49m\n\u001b[0;32m      6\u001b[0m \u001b[38;5;28;01mexcept\u001b[39;00m:\n",
      "\u001b[1;31mZeroDivisionError\u001b[0m: division by zero",
      "\nDuring handling of the above exception, another exception occurred:\n",
      "\u001b[1;31mValueError\u001b[0m                                Traceback (most recent call last)",
      "Cell \u001b[1;32mIn[87], line 8\u001b[0m\n\u001b[0;32m      5\u001b[0m     z \u001b[38;5;241m=\u001b[39m x\u001b[38;5;241m/\u001b[39my\n\u001b[0;32m      6\u001b[0m \u001b[38;5;28;01mexcept\u001b[39;00m:\n\u001b[1;32m----> 8\u001b[0m     \u001b[38;5;28;01mraise\u001b[39;00m \u001b[38;5;167;01mValueError\u001b[39;00m(\u001b[38;5;124m'\u001b[39m\u001b[38;5;124mliadax2\u001b[39m\u001b[38;5;124m'\u001b[39m)\n\u001b[0;32m     10\u001b[0m \u001b[38;5;28;01mfinally\u001b[39;00m:\n\u001b[0;32m     11\u001b[0m     \u001b[38;5;28mprint\u001b[39m(\u001b[38;5;124m'\u001b[39m\u001b[38;5;124mAll Done\u001b[39m\u001b[38;5;124m'\u001b[39m)\n",
      "\u001b[1;31mValueError\u001b[0m: liadax2"
     ]
    }
   ],
   "source": [
    "try:\n",
    "    x = 5\n",
    "    y = 0\n",
    "\n",
    "    z = x/y\n",
    "except:\n",
    "    \n",
    "    raise ValueError('liadax2')\n",
    "\n",
    "finally:\n",
    "    print('All Done')"
   ]
  },
  {
   "cell_type": "code",
   "execution_count": null,
   "id": "976fec9f",
   "metadata": {},
   "outputs": [],
   "source": []
  },
  {
   "cell_type": "markdown",
   "id": "85ea78c5",
   "metadata": {},
   "source": [
    "# Handle the exception thrown by the code below by using try and except blocks. \n",
    "\n",
    "Check in provided resources the type of error you may use. \n"
   ]
  },
  {
   "cell_type": "code",
   "execution_count": 88,
   "id": "783a8224",
   "metadata": {},
   "outputs": [
    {
     "name": "stdout",
     "output_type": "stream",
     "text": [
      "not in range...\n"
     ]
    }
   ],
   "source": [
    "try:\n",
    "\n",
    "    abc=[10,20,20]\n",
    "    print(abc[3])\n",
    "    \n",
    "except:\n",
    "    \n",
    "    print('not in range...')"
   ]
  },
  {
   "cell_type": "code",
   "execution_count": null,
   "id": "cfcf15f0",
   "metadata": {},
   "outputs": [],
   "source": []
  },
  {
   "cell_type": "markdown",
   "id": "10223640",
   "metadata": {},
   "source": [
    "# Handle at least two kind of different exceptions when dividing a couple of numbers provided by the user. \n",
    "\n",
    "**Hint: take a look on python input function.**\n",
    "\n",
    "Check in provided resources the type of error you may use. "
   ]
  },
  {
   "cell_type": "code",
   "execution_count": 91,
   "id": "3c1f141b",
   "metadata": {},
   "outputs": [
    {
     "name": "stdout",
     "output_type": "stream",
     "text": [
      "Dame un valor 4\n",
      "Ahora otro 0\n",
      "0.0\n"
     ]
    }
   ],
   "source": [
    "val1 = input('Dame un valor ')\n",
    "val1 = int(val1)\n",
    "\n",
    "val2 = input('Ahora otro ')\n",
    "val2 = int(val2)\n",
    "\n",
    "try:\n",
    "    print(val1/val2)\n",
    "\n",
    "except:\n",
    "    \n",
    "    \n",
    "    try:\n",
    "         print(val2/val1)\n",
    "    \n",
    "    except:\n",
    "        \n",
    "        print('no me des un cero como valor')"
   ]
  },
  {
   "cell_type": "markdown",
   "id": "5d712a55",
   "metadata": {},
   "source": [
    "# Handle the exception thrown by the code below by using try and except blocks. \n",
    "\n",
    "Check in provided resources the type of error you may use. "
   ]
  },
  {
   "cell_type": "code",
   "execution_count": 95,
   "id": "b73f824c",
   "metadata": {},
   "outputs": [
    {
     "name": "stdout",
     "output_type": "stream",
     "text": [
      "no existe el archivo llamado testfile\n"
     ]
    }
   ],
   "source": [
    "try:\n",
    "\n",
    "    f = open('testfile','r')\n",
    "    f.write('Test write this')\n",
    "\n",
    "except:\n",
    "    \n",
    "    print('no existe el archivo llamado testfile')"
   ]
  },
  {
   "cell_type": "code",
   "execution_count": null,
   "id": "5a1cb361",
   "metadata": {},
   "outputs": [],
   "source": []
  },
  {
   "cell_type": "markdown",
   "id": "a028ccb8",
   "metadata": {},
   "source": [
    "# Handle the exceptions that can be thrown by the code below using try and except blocks. \n",
    "\n",
    "**Hint: the file could not exist and the data could not be convertable to int**"
   ]
  },
  {
   "cell_type": "code",
   "execution_count": 97,
   "id": "5f639ab1",
   "metadata": {},
   "outputs": [
    {
     "name": "stdout",
     "output_type": "stream",
     "text": [
      "The file does not exist\n"
     ]
    }
   ],
   "source": [
    "try:\n",
    "\n",
    "    fp = open('myfile.txt')\n",
    "    line = f.readline()\n",
    "    i = int(s.strip())\n",
    "\n",
    "except:\n",
    "    \n",
    "    print('The file does not exist')\n",
    "    \n"
   ]
  },
  {
   "cell_type": "markdown",
   "id": "d695245b",
   "metadata": {},
   "source": [
    "# The following function can only run on a Linux system. \n",
    "The assert in this function will throw an exception if you call it on an operating system other than Linux.\n",
    "\n",
    "Handle this exception using **try and except** blocks.\n",
    "\n",
    "You will probably need to import sys "
   ]
  },
  {
   "cell_type": "code",
   "execution_count": 99,
   "id": "3f043ef6",
   "metadata": {},
   "outputs": [
    {
     "name": "stdout",
     "output_type": "stream",
     "text": [
      "Function can only run on Linux systems.\n"
     ]
    }
   ],
   "source": [
    "import sys\n",
    "def linux_interaction():\n",
    "    assert ('linux' in sys.platform), \"Function can only run on Linux systems.\"\n",
    "    print('Doing something.')\n",
    "    \n",
    "try:    \n",
    "    linux_interaction()\n",
    "\n",
    "except AssertionError as error:\n",
    "    print(error)\n",
    "    "
   ]
  },
  {
   "cell_type": "code",
   "execution_count": null,
   "id": "1643bbed",
   "metadata": {},
   "outputs": [],
   "source": []
  },
  {
   "cell_type": "markdown",
   "id": "9310a60b",
   "metadata": {},
   "source": [
    "\n",
    "# Bonus Questions:"
   ]
  },
  {
   "cell_type": "markdown",
   "id": "2f06d3fd",
   "metadata": {},
   "source": [
    "You will need to make some research on dictionary comprehension to solve the following questions"
   ]
  },
  {
   "cell_type": "markdown",
   "id": "3108ff54",
   "metadata": {},
   "source": [
    "## Write a function that asks for an integer and prints the square of it. \n",
    "\n",
    "**Hint: we need to continually keep checking until we get an integer.**\n",
    "\n",
    "Use a while loop with a try,except, else block to account for incorrect inputs."
   ]
  },
  {
   "cell_type": "code",
   "execution_count": 102,
   "id": "94c2e76e",
   "metadata": {},
   "outputs": [],
   "source": [
    "def cuadrado_entero():\n",
    "    while True:\n",
    "        try:\n",
    "            ent = int(input('dame un entero '))\n",
    "        except ValueError:\n",
    "            print('no es un entero, intentalo otra vez')\n",
    "        else:\n",
    "            print(ent**2)\n",
    "            break\n",
    "    "
   ]
  },
  {
   "cell_type": "markdown",
   "id": "7139da39",
   "metadata": {},
   "source": [
    "\n",
    "## Find all of the numbers from 1-1000 that are divisible by any single digit besides 1 (2-9). \n",
    "\n",
    "Use results as the name of the list \n"
   ]
  },
  {
   "cell_type": "code",
   "execution_count": 104,
   "id": "90d3aa37",
   "metadata": {},
   "outputs": [
    {
     "name": "stdout",
     "output_type": "stream",
     "text": [
      "[2, 3, 4, 4, 5, 6, 6, 6, 7, 8, 8, 8, 9, 10, 10, 12, 12, 12, 12, 14, 14, 15, 15, 16, 16, 16, 18, 18, 18, 20, 20, 20, 21, 21, 22, 24, 24, 24, 24, 24, 25, 26, 27, 28, 28, 28, 30, 30, 30, 30, 32, 32, 32, 33, 34, 35, 35, 36, 36, 36, 36, 38, 39, 40, 40, 40, 40, 42, 42, 42, 42, 44, 44, 45, 45, 46, 48, 48, 48, 48, 48, 49, 50, 50, 51, 52, 52, 54, 54, 54, 55, 56, 56, 56, 56, 57, 58, 60, 60, 60, 60, 60, 62, 63, 63, 64, 64, 64, 65, 66, 66, 66, 68, 68, 69, 70, 70, 70, 72, 72, 72, 72, 72, 74, 75, 75, 76, 76, 77, 78, 78, 78, 80, 80, 80, 80, 81, 82, 84, 84, 84, 84, 84, 85, 86, 87, 88, 88, 88, 90, 90, 90, 90, 91, 92, 92, 93, 94, 95, 96, 96, 96, 96, 96, 98, 98, 99, 100, 100, 100, 102, 102, 102, 104, 104, 104, 105, 105, 105, 106, 108, 108, 108, 108, 110, 110, 111, 112, 112, 112, 112, 114, 114, 114, 115, 116, 116, 117, 118, 119, 120, 120, 120, 120, 120, 120, 122, 123, 124, 124, 125, 126, 126, 126, 126, 128, 128, 128, 129, 130, 130, 132, 132, 132, 132, 133, 134, 135, 135, 136, 136, 136, 138, 138, 138, 140, 140, 140, 140, 141, 142, 144, 144, 144, 144, 144, 145, 146, 147, 147, 148, 148, 150, 150, 150, 150, 152, 152, 152, 153, 154, 154, 155, 156, 156, 156, 156, 158, 159, 160, 160, 160, 160, 161, 162, 162, 162, 164, 164, 165, 165, 166, 168, 168, 168, 168, 168, 168, 170, 170, 171, 172, 172, 174, 174, 174, 175, 175, 176, 176, 176, 177, 178, 180, 180, 180, 180, 180, 182, 182, 183, 184, 184, 184, 185, 186, 186, 186, 188, 188, 189, 189, 190, 190, 192, 192, 192, 192, 192, 194, 195, 195, 196, 196, 196, 198, 198, 198, 200, 200, 200, 200, 201, 202, 203, 204, 204, 204, 204, 205, 206, 207, 208, 208, 208, 210, 210, 210, 210, 210, 212, 212, 213, 214, 215, 216, 216, 216, 216, 216, 217, 218, 219, 220, 220, 220, 222, 222, 222, 224, 224, 224, 224, 225, 225, 226, 228, 228, 228, 228, 230, 230, 231, 231, 232, 232, 232, 234, 234, 234, 235, 236, 236, 237, 238, 238, 240, 240, 240, 240, 240, 240, 242, 243, 244, 244, 245, 245, 246, 246, 246, 248, 248, 248, 249, 250, 250, 252, 252, 252, 252, 252, 254, 255, 255, 256, 256, 256, 258, 258, 258, 259, 260, 260, 260, 261, 262, 264, 264, 264, 264, 264, 265, 266, 266, 267, 268, 268, 270, 270, 270, 270, 272, 272, 272, 273, 273, 274, 275, 276, 276, 276, 276, 278, 279, 280, 280, 280, 280, 280, 282, 282, 282, 284, 284, 285, 285, 286, 287, 288, 288, 288, 288, 288, 290, 290, 291, 292, 292, 294, 294, 294, 294, 295, 296, 296, 296, 297, 298, 300, 300, 300, 300, 300, 301, 302, 303, 304, 304, 304, 305, 306, 306, 306, 308, 308, 308, 309, 310, 310, 312, 312, 312, 312, 312, 314, 315, 315, 315, 316, 316, 318, 318, 318, 320, 320, 320, 320, 321, 322, 322, 324, 324, 324, 324, 325, 326, 327, 328, 328, 328, 329, 330, 330, 330, 330, 332, 332, 333, 334, 335, 336, 336, 336, 336, 336, 336, 338, 339, 340, 340, 340, 342, 342, 342, 343, 344, 344, 344, 345, 345, 346, 348, 348, 348, 348, 350, 350, 350, 351, 352, 352, 352, 354, 354, 354, 355, 356, 356, 357, 357, 358, 360, 360, 360, 360, 360, 360, 362, 363, 364, 364, 364, 365, 366, 366, 366, 368, 368, 368, 369, 370, 370, 371, 372, 372, 372, 372, 374, 375, 375, 376, 376, 376, 378, 378, 378, 378, 380, 380, 380, 381, 382, 384, 384, 384, 384, 384, 385, 385, 386, 387, 388, 388, 390, 390, 390, 390, 392, 392, 392, 392, 393, 394, 395, 396, 396, 396, 396, 398, 399, 399, 400, 400, 400, 400, 402, 402, 402, 404, 404, 405, 405, 406, 406, 408, 408, 408, 408, 408, 410, 410, 411, 412, 412, 413, 414, 414, 414, 415, 416, 416, 416, 417, 418, 420, 420, 420, 420, 420, 420, 422, 423, 424, 424, 424, 425, 426, 426, 426, 427, 428, 428, 429, 430, 430, 432, 432, 432, 432, 432, 434, 434, 435, 435, 436, 436, 438, 438, 438, 440, 440, 440, 440, 441, 441, 442, 444, 444, 444, 444, 445, 446, 447, 448, 448, 448, 448, 450, 450, 450, 450, 452, 452, 453, 454, 455, 455, 456, 456, 456, 456, 456, 458, 459, 460, 460, 460, 462, 462, 462, 462, 464, 464, 464, 465, 465, 466, 468, 468, 468, 468, 469, 470, 470, 471, 472, 472, 472, 474, 474, 474, 475, 476, 476, 476, 477, 478, 480, 480, 480, 480, 480, 480, 482, 483, 483, 484, 484, 485, 486, 486, 486, 488, 488, 488, 489, 490, 490, 490, 492, 492, 492, 492, 494, 495, 495, 496, 496, 496, 497, 498, 498, 498, 500, 500, 500, 501, 502, 504, 504, 504, 504, 504, 504, 505, 506, 507, 508, 508, 510, 510, 510, 510, 511, 512, 512, 512, 513, 514, 515, 516, 516, 516, 516, 518, 518, 519, 520, 520, 520, 520, 522, 522, 522, 524, 524, 525, 525, 525, 526, 528, 528, 528, 528, 528, 530, 530, 531, 532, 532, 532, 534, 534, 534, 535, 536, 536, 536, 537, 538, 539, 540, 540, 540, 540, 540, 542, 543, 544, 544, 544, 545, 546, 546, 546, 546, 548, 548, 549, 550, 550, 552, 552, 552, 552, 552, 553, 554, 555, 555, 556, 556, 558, 558, 558, 560, 560, 560, 560, 560, 561, 562, 564, 564, 564, 564, 565, 566, 567, 567, 568, 568, 568, 570, 570, 570, 570, 572, 572, 573, 574, 574, 575, 576, 576, 576, 576, 576, 578, 579, 580, 580, 580, 581, 582, 582, 582, 584, 584, 584, 585, 585, 586, 588, 588, 588, 588, 588, 590, 590, 591, 592, 592, 592, 594, 594, 594, 595, 595, 596, 596, 597, 598, 600, 600, 600, 600, 600, 600, 602, 602, 603, 604, 604, 605, 606, 606, 606, 608, 608, 608, 609, 609, 610, 610, 612, 612, 612, 612, 614, 615, 615, 616, 616, 616, 616, 618, 618, 618, 620, 620, 620, 621, 622, 623, 624, 624, 624, 624, 624, 625, 626, 627, 628, 628, 630, 630, 630, 630, 630, 632, 632, 632, 633, 634, 635, 636, 636, 636, 636, 637, 638, 639, 640, 640, 640, 640, 642, 642, 642, 644, 644, 644, 645, 645, 646, 648, 648, 648, 648, 648, 650, 650, 651, 651, 652, 652, 654, 654, 654, 655, 656, 656, 656, 657, 658, 658, 660, 660, 660, 660, 660, 662, 663, 664, 664, 664, 665, 665, 666, 666, 666, 668, 668, 669, 670, 670, 672, 672, 672, 672, 672, 672, 674, 675, 675, 676, 676, 678, 678, 678, 679, 680, 680, 680, 680, 681, 682, 684, 684, 684, 684, 685, 686, 686, 687, 688, 688, 688, 690, 690, 690, 690, 692, 692, 693, 693, 694, 695, 696, 696, 696, 696, 696, 698, 699, 700, 700, 700, 700, 702, 702, 702, 704, 704, 704, 705, 705, 706, 707, 708, 708, 708, 708, 710, 710, 711, 712, 712, 712, 714, 714, 714, 714, 715, 716, 716, 717, 718, 720, 720, 720, 720, 720, 720, 721, 722, 723, 724, 724, 725, 726, 726, 726, 728, 728, 728, 728, 729, 730, 730, 732, 732, 732, 732, 734, 735, 735, 735, 736, 736, 736, 738, 738, 738, 740, 740, 740, 741, 742, 742, 744, 744, 744, 744, 744, 745, 746, 747, 748, 748, 749, 750, 750, 750, 750, 752, 752, 752, 753, 754, 755, 756, 756, 756, 756, 756, 758, 759, 760, 760, 760, 760, 762, 762, 762, 763, 764, 764, 765, 765, 766, 768, 768, 768, 768, 768, 770, 770, 770, 771, 772, 772, 774, 774, 774, 775, 776, 776, 776, 777, 777, 778, 780, 780, 780, 780, 780, 782, 783, 784, 784, 784, 784, 785, 786, 786, 786, 788, 788, 789, 790, 790, 791, 792, 792, 792, 792, 792, 794, 795, 795, 796, 796, 798, 798, 798, 798, 800, 800, 800, 800, 801, 802, 804, 804, 804, 804, 805, 805, 806, 807, 808, 808, 808, 810, 810, 810, 810, 812, 812, 812, 813, 814, 815, 816, 816, 816, 816, 816, 818, 819, 819, 820, 820, 820, 822, 822, 822, 824, 824, 824, 825, 825, 826, 826, 828, 828, 828, 828, 830, 830, 831, 832, 832, 832, 833, 834, 834, 834, 835, 836, 836, 837, 838, 840, 840, 840, 840, 840, 840, 840, 842, 843, 844, 844, 845, 846, 846, 846, 847, 848, 848, 848, 849, 850, 850, 852, 852, 852, 852, 854, 854, 855, 855, 856, 856, 856, 858, 858, 858, 860, 860, 860, 861, 861, 862, 864, 864, 864, 864, 864, 865, 866, 867, 868, 868, 868, 870, 870, 870, 870, 872, 872, 872, 873, 874, 875, 875, 876, 876, 876, 876, 878, 879, 880, 880, 880, 880, 882, 882, 882, 882, 884, 884, 885, 885, 886, 888, 888, 888, 888, 888, 889, 890, 890, 891, 892, 892, 894, 894, 894, 895, 896, 896, 896, 896, 897, 898, 900, 900, 900, 900, 900, 902, 903, 903, 904, 904, 904, 905, 906, 906, 906, 908, 908, 909, 910, 910, 910, 912, 912, 912, 912, 912, 914, 915, 915, 916, 916, 917, 918, 918, 918, 920, 920, 920, 920, 921, 922, 924, 924, 924, 924, 924, 925, 926, 927, 928, 928, 928, 930, 930, 930, 930, 931, 932, 932, 933, 934, 935, 936, 936, 936, 936, 936, 938, 938, 939, 940, 940, 940, 942, 942, 942, 944, 944, 944, 945, 945, 945, 946, 948, 948, 948, 948, 950, 950, 951, 952, 952, 952, 952, 954, 954, 954, 955, 956, 956, 957, 958, 959, 960, 960, 960, 960, 960, 960, 962, 963, 964, 964, 965, 966, 966, 966, 966, 968, 968, 968, 969, 970, 970, 972, 972, 972, 972, 973, 974, 975, 975, 976, 976, 976, 978, 978, 978, 980, 980, 980, 980, 981, 982, 984, 984, 984, 984, 984, 985, 986, 987, 987, 988, 988, 990, 990, 990, 990, 992, 992, 992, 993, 994, 994, 995, 996, 996, 996, 996, 998, 999]\n"
     ]
    }
   ],
   "source": [
    "lista = list(range(1,1000))\n",
    "\n",
    "digitos = list(range(2,9))\n",
    "            \n",
    "results = [e for e in lista for d in digitos if e%d == 0]\n",
    "\n",
    "print(results)\n",
    "    "
   ]
  },
  {
   "cell_type": "markdown",
   "id": "e4791228",
   "metadata": {},
   "source": [
    "## Define a customised exception to handle not accepted values. \n",
    "\n",
    "You have the following user inputs and the Num_of_sections can not be less than 2.\n",
    "\n",
    "**Hint: Create a class derived from the pre-defined Exception class in Python**"
   ]
  },
  {
   "cell_type": "code",
   "execution_count": 6,
   "id": "86fa19bf",
   "metadata": {},
   "outputs": [
    {
     "name": "stdout",
     "output_type": "stream",
     "text": [
      "Enter Total Marks Scored: ass\n"
     ]
    },
    {
     "ename": "ValueError",
     "evalue": "invalid literal for int() with base 10: 'ass'",
     "output_type": "error",
     "traceback": [
      "\u001b[0;31m---------------------------------------------------------------------------\u001b[0m",
      "\u001b[0;31mValueError\u001b[0m                                Traceback (most recent call last)",
      "\u001b[0;32m<ipython-input-6-94b26594c4c4>\u001b[0m in \u001b[0;36m<module>\u001b[0;34m\u001b[0m\n\u001b[0;32m----> 1\u001b[0;31m \u001b[0mTotal_Marks\u001b[0m \u001b[0;34m=\u001b[0m \u001b[0mint\u001b[0m\u001b[0;34m(\u001b[0m\u001b[0minput\u001b[0m\u001b[0;34m(\u001b[0m\u001b[0;34m\"Enter Total Marks Scored: \"\u001b[0m\u001b[0;34m)\u001b[0m\u001b[0;34m)\u001b[0m\u001b[0;34m\u001b[0m\u001b[0;34m\u001b[0m\u001b[0m\n\u001b[0m\u001b[1;32m      2\u001b[0m \u001b[0mNum_of_Sections\u001b[0m \u001b[0;34m=\u001b[0m \u001b[0mint\u001b[0m\u001b[0;34m(\u001b[0m\u001b[0minput\u001b[0m\u001b[0;34m(\u001b[0m\u001b[0;34m\"Enter Num of Sections: \"\u001b[0m\u001b[0;34m)\u001b[0m\u001b[0;34m)\u001b[0m\u001b[0;34m\u001b[0m\u001b[0;34m\u001b[0m\u001b[0m\n",
      "\u001b[0;31mValueError\u001b[0m: invalid literal for int() with base 10: 'ass'"
     ]
    }
   ],
   "source": [
    "Total_Marks = int(input(\"Enter Total Marks Scored: \")) \n",
    "Num_of_Sections = int(input(\"Enter Num of Sections: \"))"
   ]
  },
  {
   "cell_type": "code",
   "execution_count": null,
   "id": "f80bb764",
   "metadata": {},
   "outputs": [],
   "source": []
  }
 ],
 "metadata": {
  "kernelspec": {
   "display_name": "Python 3 (ipykernel)",
   "language": "python",
   "name": "python3"
  },
  "language_info": {
   "codemirror_mode": {
    "name": "ipython",
    "version": 3
   },
   "file_extension": ".py",
   "mimetype": "text/x-python",
   "name": "python",
   "nbconvert_exporter": "python",
   "pygments_lexer": "ipython3",
   "version": "3.10.9"
  },
  "toc": {
   "base_numbering": 1,
   "nav_menu": {},
   "number_sections": true,
   "sideBar": true,
   "skip_h1_title": false,
   "title_cell": "Table of Contents",
   "title_sidebar": "Contents",
   "toc_cell": false,
   "toc_position": {},
   "toc_section_display": true,
   "toc_window_display": false
  }
 },
 "nbformat": 4,
 "nbformat_minor": 5
}
